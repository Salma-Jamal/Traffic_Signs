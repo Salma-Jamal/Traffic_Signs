{
  "nbformat": 4,
  "nbformat_minor": 0,
  "metadata": {
    "colab": {
      "name": "pre-trained.ipynb",
      "provenance": [],
      "collapsed_sections": [],
      "authorship_tag": "ABX9TyMvb3bITUescvXHF5fh9r7Q"
    },
    "kernelspec": {
      "name": "python3",
      "display_name": "Python 3"
    },
    "accelerator": "GPU"
  },
  "cells": [
    {
      "cell_type": "code",
      "metadata": {
        "id": "GH3N2MZcBU3s",
        "colab_type": "code",
        "colab": {}
      },
      "source": [
        "from google.colab import drive\n",
        "drive.mount('/content/gdrive')"
      ],
      "execution_count": 0,
      "outputs": []
    },
    {
      "cell_type": "code",
      "metadata": {
        "id": "Gk6uEzJPBa5_",
        "colab_type": "code",
        "colab": {}
      },
      "source": [
        "!unrar x  '/content/gdrive/My Drive/Copy of BelgiumTSC.rar'"
      ],
      "execution_count": 0,
      "outputs": []
    },
    {
      "cell_type": "code",
      "metadata": {
        "id": "RGXgZrNs0iDG",
        "colab_type": "code",
        "colab": {}
      },
      "source": [
        "import glob\n",
        "from skimage.transform import resize\n",
        "import numpy as np \n",
        "import matplotlib\n",
        "import matplotlib.pyplot as plt\n",
        "import skimage.transform\n",
        "import tensorflow as tf\n",
        "import os\n",
        "import cv2"
      ],
      "execution_count": 0,
      "outputs": []
    },
    {
      "cell_type": "code",
      "metadata": {
        "id": "cwdlK6lSjEO_",
        "colab_type": "code",
        "colab": {}
      },
      "source": [
        "def read_dataset(Directory):\n",
        "  labels = []\n",
        "  images = []\n",
        " \n",
        "  directories = [direc for direc in os.listdir(Directory) \n",
        "                   if os.path.isdir(os.path.join(Directory, direc))]\n",
        "\n",
        "  for direc in directories:\n",
        "        label = os.path.join(Directory, direc)\n",
        "        img_names = [os.path.join(label, img) \n",
        "                      for img in os.listdir(label) if img.endswith(\".ppm\")]\n",
        "       \n",
        "        for img in img_names:\n",
        "          imag = cv2.imread(img)\n",
        "          imag = skimage.transform.resize(imag, (75,75), mode='constant')\n",
        "          images.append(imag)\n",
        "          labels.append(int(direc))\n",
        "\n",
        "  return images, labels"
      ],
      "execution_count": 0,
      "outputs": []
    },
    {
      "cell_type": "code",
      "metadata": {
        "id": "iV8Fu5cB0YHM",
        "colab_type": "code",
        "colab": {}
      },
      "source": [
        "images, labels = read_dataset('/content/BelgiumTSC/Training/')\n",
        "images_test, labels_test = read_dataset('/content/BelgiumTSC/Testing/')"
      ],
      "execution_count": 0,
      "outputs": []
    },
    {
      "cell_type": "code",
      "metadata": {
        "id": "ux1YR1tP0wFv",
        "colab_type": "code",
        "outputId": "80b2cd46-4844-48a9-ce6f-c75149b2e71f",
        "colab": {
          "base_uri": "https://localhost:8080/",
          "height": 52
        }
      },
      "source": [
        "np_labels = np.array(labels).astype(np.float32)\n",
        "np_images = np.array(images).astype(np.float32)\n",
        "print(\"labels: \", np_labels.shape, \"\\nimages: \", np_images.shape)"
      ],
      "execution_count": 0,
      "outputs": [
        {
          "output_type": "stream",
          "text": [
            "labels:  (4575,) \n",
            "images:  (4575, 75, 75, 3)\n"
          ],
          "name": "stdout"
        }
      ]
    },
    {
      "cell_type": "code",
      "metadata": {
        "id": "Pjhp-k1W53aY",
        "colab_type": "code",
        "outputId": "a5a429fd-bcf1-4007-85aa-1bb309db6c37",
        "colab": {
          "base_uri": "https://localhost:8080/",
          "height": 52
        }
      },
      "source": [
        "np_test_labels = np.array(labels_test).astype(np.float32)\n",
        "np_test_images = np.array(images_test).astype(np.float32)\n",
        "print(\"images: \", np_test_images.shape, \"\\nlabels: \", np_test_labels.shape)"
      ],
      "execution_count": 0,
      "outputs": [
        {
          "output_type": "stream",
          "text": [
            "images:  (2520, 75, 75, 3) \n",
            "labels:  (2520,)\n"
          ],
          "name": "stdout"
        }
      ]
    },
    {
      "cell_type": "code",
      "metadata": {
        "id": "i3OQHgIsnSxO",
        "colab_type": "code",
        "colab": {}
      },
      "source": [
        "IMG_SHAPE = (75, 75, 3)\n",
        "#base_model = tf.keras.applications.resnet50.ResNet50(input_shape=IMG_SHAPE,include_top=False,weights='imagenet')\n",
        "base_model = tf.keras.applications.inception_resnet_v2.InceptionResNetV2(input_shape=IMG_SHAPE,include_top=False,weights='imagenet')"
      ],
      "execution_count": 0,
      "outputs": []
    },
    {
      "cell_type": "code",
      "metadata": {
        "id": "4qt1SQ5Qyhxd",
        "colab_type": "code",
        "colab": {}
      },
      "source": [
        "feature_batch= base_model(np_images)"
      ],
      "execution_count": 0,
      "outputs": []
    },
    {
      "cell_type": "code",
      "metadata": {
        "id": "KZbjmOnmzA3v",
        "colab_type": "code",
        "colab": {}
      },
      "source": [
        "base_model.trainable = False"
      ],
      "execution_count": 0,
      "outputs": []
    },
    {
      "cell_type": "code",
      "metadata": {
        "id": "5-NzlXoszN3g",
        "colab_type": "code",
        "outputId": "8a0f5570-2cb6-487c-d28d-6478dcb90792",
        "colab": {
          "base_uri": "https://localhost:8080/",
          "height": 34
        }
      },
      "source": [
        "global_average_layer = tf.keras.layers.GlobalAveragePooling2D()\n",
        "feature_batch_average = global_average_layer(feature_batch)\n",
        "print(feature_batch_average.shape)"
      ],
      "execution_count": 0,
      "outputs": [
        {
          "output_type": "stream",
          "text": [
            "(4575, 1536)\n"
          ],
          "name": "stdout"
        }
      ]
    },
    {
      "cell_type": "code",
      "metadata": {
        "id": "zC85nIaJzZ1s",
        "colab_type": "code",
        "colab": {}
      },
      "source": [
        "prediction_layer = tf.keras.layers.Dense(62,activation='linear')\n",
        "dropp =tf.keras.layers.Dropout(0.4)\n",
        "dropp2 =tf.keras.layers.Dropout(0.5)\n",
        "prediction_layer2 = tf.keras.layers.Dense(1536,activation='relu')\n",
        "#prediction_batch = prediction_layer(feature_batch_average)\n",
        "#print(prediction_batch.shape)"
      ],
      "execution_count": 0,
      "outputs": []
    },
    {
      "cell_type": "code",
      "metadata": {
        "id": "1ldXmjgDzgrT",
        "colab_type": "code",
        "colab": {}
      },
      "source": [
        "model = tf.keras.Sequential([\n",
        "  base_model,\n",
        "  dropp,\n",
        "  global_average_layer,\n",
        "  dropp2,\n",
        "  prediction_layer2,\n",
        "  prediction_layer\n",
        "])"
      ],
      "execution_count": 0,
      "outputs": []
    },
    {
      "cell_type": "code",
      "metadata": {
        "id": "fvhzNJ9ZnQD4",
        "colab_type": "code",
        "outputId": "3cd8d81d-b684-4e83-95a1-4b9acb2f1b4c",
        "colab": {
          "base_uri": "https://localhost:8080/",
          "height": 372
        }
      },
      "source": [
        "model.summary()"
      ],
      "execution_count": 0,
      "outputs": [
        {
          "output_type": "stream",
          "text": [
            "Model: \"sequential_1\"\n",
            "_________________________________________________________________\n",
            "Layer (type)                 Output Shape              Param #   \n",
            "=================================================================\n",
            "inception_resnet_v2 (Model)  (None, 1, 1, 1536)        54336736  \n",
            "_________________________________________________________________\n",
            "dropout_2 (Dropout)          (None, 1, 1, 1536)        0         \n",
            "_________________________________________________________________\n",
            "global_average_pooling2d_1 ( (None, 1536)              0         \n",
            "_________________________________________________________________\n",
            "dropout_3 (Dropout)          (None, 1536)              0         \n",
            "_________________________________________________________________\n",
            "dense_3 (Dense)              (None, 1536)              2360832   \n",
            "_________________________________________________________________\n",
            "dense_2 (Dense)              (None, 62)                95294     \n",
            "=================================================================\n",
            "Total params: 56,792,862\n",
            "Trainable params: 2,456,126\n",
            "Non-trainable params: 54,336,736\n",
            "_________________________________________________________________\n"
          ],
          "name": "stdout"
        }
      ]
    },
    {
      "cell_type": "code",
      "metadata": {
        "id": "fJVro8e8ea_y",
        "colab_type": "code",
        "colab": {}
      },
      "source": [
        "from sklearn.model_selection import train_test_split"
      ],
      "execution_count": 0,
      "outputs": []
    },
    {
      "cell_type": "code",
      "metadata": {
        "id": "TdkpW2iWeuX3",
        "colab_type": "code",
        "colab": {}
      },
      "source": [
        "X_train, X_valid, y_train, y_valid = train_test_split(np_images, np_labels, test_size=0.05, random_state=42)"
      ],
      "execution_count": 0,
      "outputs": []
    },
    {
      "cell_type": "code",
      "metadata": {
        "id": "nAL2vidrzm3b",
        "colab_type": "code",
        "colab": {}
      },
      "source": [
        "model.compile(optimizer='adam',\n",
        "              loss=tf.keras.losses.SparseCategoricalCrossentropy(from_logits=True),\n",
        "              metrics=['accuracy'])"
      ],
      "execution_count": 0,
      "outputs": []
    },
    {
      "cell_type": "code",
      "metadata": {
        "id": "hgMeBXZ232Bd",
        "colab_type": "code",
        "outputId": "13e8ea32-216a-45b7-a8a9-e7b92a83342c",
        "colab": {
          "base_uri": "https://localhost:8080/",
          "height": 372
        }
      },
      "source": [
        "history = model.fit(X_train,y_train,epochs=10,validation_data=(X_valid,y_valid))"
      ],
      "execution_count": 0,
      "outputs": [
        {
          "output_type": "stream",
          "text": [
            "Epoch 1/10\n",
            "136/136 [==============================] - 16s 119ms/step - loss: 1.9371 - accuracy: 0.5888 - val_loss: 0.7847 - val_accuracy: 0.7948\n",
            "Epoch 2/10\n",
            "136/136 [==============================] - 12s 90ms/step - loss: 0.9532 - accuracy: 0.7462 - val_loss: 0.5485 - val_accuracy: 0.8472\n",
            "Epoch 3/10\n",
            "136/136 [==============================] - 13s 93ms/step - loss: 0.7248 - accuracy: 0.7991 - val_loss: 0.4823 - val_accuracy: 0.8297\n",
            "Epoch 4/10\n",
            "136/136 [==============================] - 12s 91ms/step - loss: 0.6196 - accuracy: 0.8185 - val_loss: 0.4610 - val_accuracy: 0.8603\n",
            "Epoch 5/10\n",
            "136/136 [==============================] - 12s 90ms/step - loss: 0.5345 - accuracy: 0.8359 - val_loss: 0.3882 - val_accuracy: 0.8908\n",
            "Epoch 6/10\n",
            "136/136 [==============================] - 12s 90ms/step - loss: 0.4816 - accuracy: 0.8566 - val_loss: 0.4057 - val_accuracy: 0.8865\n",
            "Epoch 7/10\n",
            "136/136 [==============================] - 12s 90ms/step - loss: 0.4476 - accuracy: 0.8663 - val_loss: 0.3597 - val_accuracy: 0.8865\n",
            "Epoch 8/10\n",
            "136/136 [==============================] - 12s 89ms/step - loss: 0.4300 - accuracy: 0.8723 - val_loss: 0.3825 - val_accuracy: 0.8908\n",
            "Epoch 9/10\n",
            "136/136 [==============================] - 12s 90ms/step - loss: 0.4068 - accuracy: 0.8744 - val_loss: 0.3255 - val_accuracy: 0.8952\n",
            "Epoch 10/10\n",
            "136/136 [==============================] - 12s 90ms/step - loss: 0.3664 - accuracy: 0.8856 - val_loss: 0.2500 - val_accuracy: 0.9170\n"
          ],
          "name": "stdout"
        }
      ]
    },
    {
      "cell_type": "code",
      "metadata": {
        "id": "0WK7y8l132FY",
        "colab_type": "code",
        "outputId": "71e13578-910b-4ba0-e757-e995ba79651d",
        "colab": {
          "base_uri": "https://localhost:8080/",
          "height": 34
        }
      },
      "source": [
        "test_loss, test_acc = model.evaluate(np_test_images,  np_test_labels, verbose=2)"
      ],
      "execution_count": 0,
      "outputs": [
        {
          "output_type": "stream",
          "text": [
            "79/79 - 7s - loss: 0.4885 - accuracy: 0.8619\n"
          ],
          "name": "stdout"
        }
      ]
    },
    {
      "cell_type": "code",
      "metadata": {
        "id": "Ea8H8NfvCbZj",
        "colab_type": "code",
        "outputId": "46b60a05-7012-484a-933b-c87598082780",
        "colab": {
          "base_uri": "https://localhost:8080/",
          "height": 34
        }
      },
      "source": [
        "base_model.trainable = True\n",
        "print(\"original layers in the base model before fine tuning: \", len(base_model.layers))\n",
        "fine_tune = 100\n",
        "for layer in base_model.layers[:fine_tune]:\n",
        "  layer.trainable =  False"
      ],
      "execution_count": 0,
      "outputs": [
        {
          "output_type": "stream",
          "text": [
            "original layers in the base model before fine tuning:  780\n"
          ],
          "name": "stdout"
        }
      ]
    },
    {
      "cell_type": "code",
      "metadata": {
        "id": "GBZ3nIBPDR9Y",
        "colab_type": "code",
        "outputId": "56b81467-ce3b-4cd1-e4f7-88fb2808425d",
        "colab": {
          "base_uri": "https://localhost:8080/",
          "height": 34
        }
      },
      "source": [
        "print(\"trainable variables after fine tuning: \",len(model.trainable_variables))"
      ],
      "execution_count": 0,
      "outputs": [
        {
          "output_type": "stream",
          "text": [
            "trainable variables after fine tuning:  428\n"
          ],
          "name": "stdout"
        }
      ]
    },
    {
      "cell_type": "code",
      "metadata": {
        "id": "XVmoGueIDNgE",
        "colab_type": "code",
        "outputId": "a50394a3-ea8a-4165-d6fb-36103de47039",
        "colab": {
          "base_uri": "https://localhost:8080/",
          "height": 372
        }
      },
      "source": [
        "model.summary()"
      ],
      "execution_count": 0,
      "outputs": [
        {
          "output_type": "stream",
          "text": [
            "Model: \"sequential_1\"\n",
            "_________________________________________________________________\n",
            "Layer (type)                 Output Shape              Param #   \n",
            "=================================================================\n",
            "inception_resnet_v2 (Model)  (None, 1, 1, 1536)        54336736  \n",
            "_________________________________________________________________\n",
            "dropout_2 (Dropout)          (None, 1, 1, 1536)        0         \n",
            "_________________________________________________________________\n",
            "global_average_pooling2d_1 ( (None, 1536)              0         \n",
            "_________________________________________________________________\n",
            "dropout_3 (Dropout)          (None, 1536)              0         \n",
            "_________________________________________________________________\n",
            "dense_3 (Dense)              (None, 1536)              2360832   \n",
            "_________________________________________________________________\n",
            "dense_2 (Dense)              (None, 62)                95294     \n",
            "=================================================================\n",
            "Total params: 56,792,862\n",
            "Trainable params: 55,964,750\n",
            "Non-trainable params: 828,112\n",
            "_________________________________________________________________\n"
          ],
          "name": "stdout"
        }
      ]
    },
    {
      "cell_type": "code",
      "metadata": {
        "id": "S1s3Vn2oC3bc",
        "colab_type": "code",
        "colab": {}
      },
      "source": [
        "model.compile(optimizer='adam',\n",
        "              loss=tf.keras.losses.SparseCategoricalCrossentropy(from_logits=True),\n",
        "              metrics=['accuracy'])"
      ],
      "execution_count": 0,
      "outputs": []
    },
    {
      "cell_type": "code",
      "metadata": {
        "id": "cRq7OiKJDTUt",
        "colab_type": "code",
        "outputId": "b5f367d1-2d32-498c-9f5e-26d0e7035837",
        "colab": {
          "base_uri": "https://localhost:8080/",
          "height": 407
        }
      },
      "source": [
        "history = model.fit(X_train,y_train,epochs=20,validation_data=(X_valid,y_valid),initial_epoch=history.epoch[-1])"
      ],
      "execution_count": 0,
      "outputs": [
        {
          "output_type": "stream",
          "text": [
            "Epoch 10/20\n",
            "136/136 [==============================] - 41s 301ms/step - loss: 0.7081 - accuracy: 0.8219 - val_loss: 0.2977 - val_accuracy: 0.9039\n",
            "Epoch 11/20\n",
            "136/136 [==============================] - 36s 267ms/step - loss: 0.2560 - accuracy: 0.9296 - val_loss: 1.0839 - val_accuracy: 0.8690\n",
            "Epoch 12/20\n",
            "136/136 [==============================] - 36s 267ms/step - loss: 0.2376 - accuracy: 0.9489 - val_loss: 0.6071 - val_accuracy: 0.9345\n",
            "Epoch 13/20\n",
            "136/136 [==============================] - 36s 267ms/step - loss: 0.1123 - accuracy: 0.9699 - val_loss: 0.3424 - val_accuracy: 0.9432\n",
            "Epoch 14/20\n",
            "136/136 [==============================] - 36s 267ms/step - loss: 0.1513 - accuracy: 0.9666 - val_loss: 0.1365 - val_accuracy: 0.9651\n",
            "Epoch 15/20\n",
            "136/136 [==============================] - 36s 267ms/step - loss: 0.0948 - accuracy: 0.9786 - val_loss: 1.1045 - val_accuracy: 0.8821\n",
            "Epoch 16/20\n",
            "136/136 [==============================] - 36s 267ms/step - loss: 0.0603 - accuracy: 0.9862 - val_loss: 0.0664 - val_accuracy: 0.9825\n",
            "Epoch 17/20\n",
            "136/136 [==============================] - 36s 267ms/step - loss: 0.0574 - accuracy: 0.9873 - val_loss: 0.0818 - val_accuracy: 0.9694\n",
            "Epoch 18/20\n",
            "136/136 [==============================] - 36s 267ms/step - loss: 0.0731 - accuracy: 0.9844 - val_loss: 0.0714 - val_accuracy: 0.9869\n",
            "Epoch 19/20\n",
            "136/136 [==============================] - 36s 267ms/step - loss: 0.0724 - accuracy: 0.9823 - val_loss: 0.0074 - val_accuracy: 1.0000\n",
            "Epoch 20/20\n",
            "136/136 [==============================] - 36s 267ms/step - loss: 0.0385 - accuracy: 0.9903 - val_loss: 0.0335 - val_accuracy: 0.9869\n"
          ],
          "name": "stdout"
        }
      ]
    },
    {
      "cell_type": "code",
      "metadata": {
        "id": "Yvabu6N5Kl-q",
        "colab_type": "code",
        "outputId": "57c3065c-d41b-423b-9fb9-34d22ceb5d82",
        "colab": {
          "base_uri": "https://localhost:8080/",
          "height": 34
        }
      },
      "source": [
        "test_loss, test_acc = model.evaluate(np_test_images,  np_test_labels, verbose=2)"
      ],
      "execution_count": 0,
      "outputs": [
        {
          "output_type": "stream",
          "text": [
            "79/79 - 6s - loss: 0.1599 - accuracy: 0.9734\n"
          ],
          "name": "stdout"
        }
      ]
    },
    {
      "cell_type": "code",
      "metadata": {
        "id": "vsekQyM_6cT3",
        "colab_type": "code",
        "colab": {}
      },
      "source": [
        "predict = np.argmax(model.predict(np_test_images), axis = 1)"
      ],
      "execution_count": 0,
      "outputs": []
    },
    {
      "cell_type": "code",
      "metadata": {
        "id": "rF3YtPyRAV6T",
        "colab_type": "code",
        "colab": {}
      },
      "source": [
        "labelCon = []\n",
        "for i in range(62):\n",
        "  labelCon.append(i)"
      ],
      "execution_count": 0,
      "outputs": []
    },
    {
      "cell_type": "code",
      "metadata": {
        "id": "8PrCnyjM9Px5",
        "colab_type": "code",
        "outputId": "f7c8ea82-f67d-41c3-881d-d5a26bc2c596",
        "colab": {
          "base_uri": "https://localhost:8080/",
          "height": 158
        }
      },
      "source": [
        "from sklearn.metrics import classification_report, confusion_matrix\n",
        "print('Confusion Matrix')\n",
        "print(confusion_matrix(np_test_labels, predict , labelCon))"
      ],
      "execution_count": 0,
      "outputs": [
        {
          "output_type": "stream",
          "text": [
            "Confusion Matrix\n",
            "[[  6   0   0 ...   0   0   0]\n",
            " [  0  27   0 ...   0   0   0]\n",
            " [  0   0   7 ...   0   0   0]\n",
            " ...\n",
            " [  0   5   0 ...  12   0   0]\n",
            " [  0   0   0 ...   0  11   0]\n",
            " [  0   0   0 ...   0   0 105]]\n"
          ],
          "name": "stdout"
        }
      ]
    },
    {
      "cell_type": "code",
      "metadata": {
        "id": "xyI31_kFiOvC",
        "colab_type": "code",
        "outputId": "d1ca510d-7570-4a74-a8c8-5f31029def1b",
        "colab": {
          "base_uri": "https://localhost:8080/",
          "height": 1000
        }
      },
      "source": [
        "print('Classification Report')\n",
        "print(classification_report(np_test_labels, predict , labelCon))"
      ],
      "execution_count": 0,
      "outputs": [
        {
          "output_type": "stream",
          "text": [
            "Classification Report\n",
            "              precision    recall  f1-score   support\n",
            "\n",
            "           0       1.00      1.00      1.00         6\n",
            "           1       0.73      1.00      0.84        27\n",
            "           2       0.78      1.00      0.88         7\n",
            "           3       0.86      1.00      0.92         6\n",
            "           4       1.00      1.00      1.00        12\n",
            "           5       1.00      1.00      1.00         3\n",
            "           6       1.00      1.00      1.00         6\n",
            "           7       1.00      0.97      0.98        90\n",
            "           8       0.67      1.00      0.80        12\n",
            "           9       0.00      0.00      0.00         0\n",
            "          10       1.00      0.96      0.98        28\n",
            "          11       0.00      0.00      0.00         0\n",
            "          12       1.00      1.00      1.00         3\n",
            "          13       1.00      0.87      0.93        39\n",
            "          14       1.00      0.47      0.64        15\n",
            "          15       0.00      0.00      0.00         0\n",
            "          16       0.60      1.00      0.75        12\n",
            "          17       0.98      1.00      0.99       183\n",
            "          18       1.00      0.98      0.99       122\n",
            "          19       0.99      1.00      1.00       163\n",
            "          20       1.00      1.00      1.00         3\n",
            "          21       1.00      0.98      0.99        45\n",
            "          22       0.98      1.00      0.99        61\n",
            "          23       1.00      1.00      1.00        15\n",
            "          24       0.93      1.00      0.96        13\n",
            "          25       1.00      1.00      1.00         3\n",
            "          26       0.00      0.00      0.00         0\n",
            "          27       1.00      0.89      0.94         9\n",
            "          28       1.00      1.00      1.00        51\n",
            "          29       1.00      1.00      1.00        28\n",
            "          30       1.00      1.00      1.00        37\n",
            "          31       1.00      0.99      0.99        86\n",
            "          32       1.00      1.00      1.00       422\n",
            "          33       0.00      0.00      0.00         0\n",
            "          34       1.00      1.00      1.00         9\n",
            "          35       1.00      0.90      0.95       154\n",
            "          36       0.00      0.00      0.00         0\n",
            "          37       1.00      1.00      1.00        31\n",
            "          38       1.00      0.97      0.98       213\n",
            "          39       0.93      1.00      0.97        99\n",
            "          40       1.00      1.00      1.00        48\n",
            "          41       0.52      1.00      0.69        11\n",
            "          42       0.82      1.00      0.90         9\n",
            "          43       1.00      1.00      1.00         6\n",
            "          44       1.00      1.00      1.00         3\n",
            "          45       0.96      0.93      0.95        84\n",
            "          46       1.00      0.50      0.67         6\n",
            "          47       0.97      1.00      0.98        31\n",
            "          48       0.00      0.00      0.00         0\n",
            "          49       0.38      1.00      0.55         3\n",
            "          50       0.00      0.00      0.00         0\n",
            "          51       1.00      1.00      1.00         3\n",
            "          52       0.00      0.00      0.00         0\n",
            "          53       1.00      1.00      1.00        24\n",
            "          54       1.00      1.00      1.00        48\n",
            "          55       0.94      1.00      0.97        15\n",
            "          56       0.89      1.00      0.94        33\n",
            "          57       1.00      0.83      0.91        41\n",
            "          58       1.00      1.00      1.00         9\n",
            "          59       1.00      0.71      0.83        17\n",
            "          60       1.00      1.00      1.00        11\n",
            "          61       1.00      1.00      1.00       105\n",
            "\n",
            "   micro avg       0.97      0.97      0.97      2520\n",
            "   macro avg       0.81      0.82      0.80      2520\n",
            "weighted avg       0.98      0.97      0.97      2520\n",
            "\n"
          ],
          "name": "stdout"
        },
        {
          "output_type": "stream",
          "text": [
            "/usr/local/lib/python3.6/dist-packages/sklearn/metrics/_classification.py:1272: UndefinedMetricWarning: Precision and F-score are ill-defined and being set to 0.0 in labels with no predicted samples. Use `zero_division` parameter to control this behavior.\n",
            "  _warn_prf(average, modifier, msg_start, len(result))\n",
            "/usr/local/lib/python3.6/dist-packages/sklearn/metrics/_classification.py:1272: UndefinedMetricWarning: Recall and F-score are ill-defined and being set to 0.0 in labels with no true samples. Use `zero_division` parameter to control this behavior.\n",
            "  _warn_prf(average, modifier, msg_start, len(result))\n"
          ],
          "name": "stderr"
        }
      ]
    },
    {
      "cell_type": "code",
      "metadata": {
        "id": "X63daJE-Fquq",
        "colab_type": "code",
        "colab": {}
      },
      "source": [
        "import pandas as pd\n",
        "con_mat = tf.math.confusion_matrix(labels=np_test_labels, predictions=predict).numpy()\n",
        "con_mat_norm = np.around(con_mat.astype('float') / con_mat.sum(axis=1)[:, np.newaxis], decimals=2)\n",
        "con_mat_df = pd.DataFrame(con_mat_norm, index = labelCon, columns = labelCon)"
      ],
      "execution_count": 0,
      "outputs": []
    },
    {
      "cell_type": "code",
      "metadata": {
        "id": "3YEqgABPLuVH",
        "colab_type": "code",
        "outputId": "35449981-ef1d-4212-f1f7-f1a54dafad78",
        "colab": {
          "base_uri": "https://localhost:8080/",
          "height": 1000
        }
      },
      "source": [
        "import seaborn as sns\n",
        "figure = plt.figure(figsize=(20, 20))\n",
        "sns.heatmap(con_mat_df, annot=True,cmap=plt.cm.Blues)\n",
        "plt.tight_layout()\n",
        "plt.ylabel('True label')\n",
        "plt.xlabel('Predicted label')\n",
        "plt.show()"
      ],
      "execution_count": 0,
      "outputs": [
        {
          "output_type": "stream",
          "text": [
            "/usr/local/lib/python3.6/dist-packages/statsmodels/tools/_testing.py:19: FutureWarning: pandas.util.testing is deprecated. Use the functions in the public API at pandas.testing instead.\n",
            "  import pandas.util.testing as tm\n"
          ],
          "name": "stderr"
        },
        {
          "output_type": "display_data",
          "data": {
            "image/png": "[encoded data removed]",
            "text/plain": [
              "<Figure size 1440x1440 with 2 Axes>"
            ]
          },
          "metadata": {
            "tags": [],
            "needs_background": "light"
          }
        }
      ]
    }
  ]
}